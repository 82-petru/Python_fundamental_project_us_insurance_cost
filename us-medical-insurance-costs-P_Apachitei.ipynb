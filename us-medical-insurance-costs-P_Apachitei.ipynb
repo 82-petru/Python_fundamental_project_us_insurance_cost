{
 "cells": [
  {
   "cell_type": "markdown",
   "metadata": {},
   "source": [
    "# U.S. Medical Insurance Costs"
   ]
  },
  {
   "cell_type": "markdown",
   "metadata": {},
   "source": [
    "Across the US, americans pays widly different montly or annualy for helth insurance. The cost of medical insurance is influenced by a number of factors. In this project will explore below to help you understand how much you might pay for health insurance in one year and why."
   ]
  },
  {
   "cell_type": "markdown",
   "metadata": {},
   "source": [
    "**01.Look over the data**\n",
    "- import pandas module create a variable and call it df, set this variable equal to pd.read_csv() to read \"insurance.csv\" file\n",
    "- print out first 5 rows with help from method head()\n",
    "- investigate dataset with method info()\n",
    "    - dataset have 1338 entries(rows) and 7 columns\n",
    "- describing the content of columns \n",
    "    - age: age for each individual, numerical data\n",
    "    - sex: gender for each individual male or female, categorical data\n",
    "    - bmi: body mass index' s for each individual, , numerical data\n",
    "    - children: number of children the individual has, , numerical data\n",
    "    - smoker: yes for smokers and no non-smokers, categorical data \n",
    "    - region: region area for each individual, categorical data \n",
    "    - charges: medical insurance cost determined on each individual's factors, , numerical data"
   ]
  },
  {
   "cell_type": "code",
   "execution_count": 3,
   "metadata": {},
   "outputs": [],
   "source": [
    "import pandas as pd\n",
    "from matplotlib import pyplot as plt\n",
    "import seaborn as sns"
   ]
  },
  {
   "cell_type": "code",
   "execution_count": 4,
   "metadata": {},
   "outputs": [
    {
     "data": {
      "text/html": [
       "<div>\n",
       "<style scoped>\n",
       "    .dataframe tbody tr th:only-of-type {\n",
       "        vertical-align: middle;\n",
       "    }\n",
       "\n",
       "    .dataframe tbody tr th {\n",
       "        vertical-align: top;\n",
       "    }\n",
       "\n",
       "    .dataframe thead th {\n",
       "        text-align: right;\n",
       "    }\n",
       "</style>\n",
       "<table border=\"1\" class=\"dataframe\">\n",
       "  <thead>\n",
       "    <tr style=\"text-align: right;\">\n",
       "      <th></th>\n",
       "      <th>age</th>\n",
       "      <th>sex</th>\n",
       "      <th>bmi</th>\n",
       "      <th>children</th>\n",
       "      <th>smoker</th>\n",
       "      <th>region</th>\n",
       "      <th>charges</th>\n",
       "    </tr>\n",
       "  </thead>\n",
       "  <tbody>\n",
       "    <tr>\n",
       "      <td>0</td>\n",
       "      <td>19</td>\n",
       "      <td>female</td>\n",
       "      <td>27.900</td>\n",
       "      <td>0</td>\n",
       "      <td>yes</td>\n",
       "      <td>southwest</td>\n",
       "      <td>16884.92400</td>\n",
       "    </tr>\n",
       "    <tr>\n",
       "      <td>1</td>\n",
       "      <td>18</td>\n",
       "      <td>male</td>\n",
       "      <td>33.770</td>\n",
       "      <td>1</td>\n",
       "      <td>no</td>\n",
       "      <td>southeast</td>\n",
       "      <td>1725.55230</td>\n",
       "    </tr>\n",
       "    <tr>\n",
       "      <td>2</td>\n",
       "      <td>28</td>\n",
       "      <td>male</td>\n",
       "      <td>33.000</td>\n",
       "      <td>3</td>\n",
       "      <td>no</td>\n",
       "      <td>southeast</td>\n",
       "      <td>4449.46200</td>\n",
       "    </tr>\n",
       "    <tr>\n",
       "      <td>3</td>\n",
       "      <td>33</td>\n",
       "      <td>male</td>\n",
       "      <td>22.705</td>\n",
       "      <td>0</td>\n",
       "      <td>no</td>\n",
       "      <td>northwest</td>\n",
       "      <td>21984.47061</td>\n",
       "    </tr>\n",
       "    <tr>\n",
       "      <td>4</td>\n",
       "      <td>32</td>\n",
       "      <td>male</td>\n",
       "      <td>28.880</td>\n",
       "      <td>0</td>\n",
       "      <td>no</td>\n",
       "      <td>northwest</td>\n",
       "      <td>3866.85520</td>\n",
       "    </tr>\n",
       "  </tbody>\n",
       "</table>\n",
       "</div>"
      ],
      "text/plain": [
       "   age     sex     bmi  children smoker     region      charges\n",
       "0   19  female  27.900         0    yes  southwest  16884.92400\n",
       "1   18    male  33.770         1     no  southeast   1725.55230\n",
       "2   28    male  33.000         3     no  southeast   4449.46200\n",
       "3   33    male  22.705         0     no  northwest  21984.47061\n",
       "4   32    male  28.880         0     no  northwest   3866.85520"
      ]
     },
     "execution_count": 4,
     "metadata": {},
     "output_type": "execute_result"
    }
   ],
   "source": [
    "df = pd.read_csv(\"insurance.csv\")\n",
    "df.head()"
   ]
  },
  {
   "cell_type": "code",
   "execution_count": 5,
   "metadata": {},
   "outputs": [
    {
     "name": "stdout",
     "output_type": "stream",
     "text": [
      "<class 'pandas.core.frame.DataFrame'>\n",
      "RangeIndex: 1338 entries, 0 to 1337\n",
      "Data columns (total 7 columns):\n",
      "age         1338 non-null int64\n",
      "sex         1338 non-null object\n",
      "bmi         1338 non-null float64\n",
      "children    1338 non-null int64\n",
      "smoker      1338 non-null object\n",
      "region      1338 non-null object\n",
      "charges     1338 non-null float64\n",
      "dtypes: float64(2), int64(2), object(3)\n",
      "memory usage: 73.3+ KB\n"
     ]
    }
   ],
   "source": [
    "df.info()"
   ]
  },
  {
   "cell_type": "markdown",
   "metadata": {},
   "source": [
    "**02.Analyze the data**\n",
    "- determine the average age of the  patients in the dataset\n",
    "    - the average age is 39 years\n",
    "- determine the average insurance cost of the patients in the dataset\n",
    "    - The average patient's charges is 13270 dollars. \n",
    "- determine the average insurance cost by gender\n",
    "    - The average female's charges is 12570 dollars. \n",
    "    - The average male's charges is 13957 dollars. \n",
    "- determine the average BMI of the patients in the dataset \n",
    "    - The average patient's bmi is 31.\n",
    "    - The average female's bmi is 30.\n",
    "    - The average male's bmi is 31.\n",
    "- determine the average insurance cost between smokers and non-smokers  \n",
    "    - **According to this result, a predominant factor regarding the cost of medical insurance is tobacco use.**\n",
    "- find out where the majority of the individuals are from \n",
    "    - There are 4 region in dataset: southwest, southeast, northwest, northeast\n",
    "- return the average insurance cost for each region from dataset \n",
    "    - The region southeast have 364 patients and average insurance cost 14735 dollars.\n",
    "    - The region southwest have 325 patients and average insurance cost 12347 dollars.\n",
    "    - The region northeast have 324 patients and average insurance cost 13406 dollars.\n",
    "    - The region northwest have 325 patients and average insurance cost 12418 dollars."
   ]
  },
  {
   "cell_type": "code",
   "execution_count": 6,
   "metadata": {},
   "outputs": [
    {
     "name": "stdout",
     "output_type": "stream",
     "text": [
      "The average patient's age is 39 years old\n"
     ]
    }
   ],
   "source": [
    "# defining method for patient's age average calculation\n",
    "age = df['age']\n",
    "def patients_mean_age(patient_age):\n",
    "    sum_age = 0\n",
    "    for age in patient_age:\n",
    "        sum_age += age\n",
    "        mean_age = sum_age / len(patient_age)\n",
    "    print(\"The average patient's age is {} years old\".format(round(mean_age)))\n",
    "patients_mean_age(age)"
   ]
  },
  {
   "cell_type": "code",
   "execution_count": 7,
   "metadata": {},
   "outputs": [],
   "source": [
    "# split data by gender \n",
    "male = df[df.sex == 'male']\n",
    "female = df[df.sex == 'female']"
   ]
  },
  {
   "cell_type": "code",
   "execution_count": 8,
   "metadata": {},
   "outputs": [],
   "source": [
    "# separate charges column for calculations\n",
    "charges = df['charges']\n",
    "charges_female = female['charges']\n",
    "charges_male = male['charges']"
   ]
  },
  {
   "cell_type": "code",
   "execution_count": 9,
   "metadata": {},
   "outputs": [
    {
     "name": "stdout",
     "output_type": "stream",
     "text": [
      "The average patient's charges is 13270 dollars. \n",
      "The average female's charges is 12570 dollars. \n",
      "The average male's charges is 13957 dollars. \n"
     ]
    }
   ],
   "source": [
    "# defining method for insurance cost average calculation \n",
    "def patients_mean_charges(patients_insurance_cost, string):\n",
    "    sum_charges = 0\n",
    "    for cost in patients_insurance_cost:\n",
    "        sum_charges += cost\n",
    "        mean_charges = sum_charges / len(patients_insurance_cost)\n",
    "    print(\"The average {} charges is {} dollars. \".format(string, round(mean_charges)))\n",
    "patients_mean_charges(charges, \"patient's\") \n",
    "patients_mean_charges(charges_female, \"female's\")\n",
    "patients_mean_charges(charges_male, \"male's\")"
   ]
  },
  {
   "cell_type": "code",
   "execution_count": 10,
   "metadata": {},
   "outputs": [],
   "source": [
    "# separate bmi columns for calculation\n",
    "bmi = df['bmi']\n",
    "bmi_female = female['bmi']\n",
    "bmi_male = male['bmi']"
   ]
  },
  {
   "cell_type": "code",
   "execution_count": 11,
   "metadata": {},
   "outputs": [
    {
     "name": "stdout",
     "output_type": "stream",
     "text": [
      "The average patient's bmi is 31.\n",
      "The average female's bmi is 30.\n",
      "The average male's bmi is 31.\n"
     ]
    }
   ],
   "source": [
    "# defining method for bmi average calculation \n",
    "def patients_mean_bmi(patients_bmi, string):\n",
    "    sum_bmi = 0\n",
    "    for bmi in patients_bmi:\n",
    "        sum_bmi += bmi\n",
    "        mean_bmi = sum_bmi / len(patients_bmi)\n",
    "    print(\"The average {} bmi is {}.\".format(string, round(mean_bmi)))\n",
    "patients_mean_bmi(bmi, \"patient's\") \n",
    "patients_mean_bmi(bmi_female, \"female's\")\n",
    "patients_mean_bmi(bmi_male, \"male's\")"
   ]
  },
  {
   "cell_type": "code",
   "execution_count": 12,
   "metadata": {},
   "outputs": [],
   "source": [
    "# filter data by tabacco users \n",
    "smokers = df[df.smoker == 'yes']\n",
    "non_smokers = df[df.smoker == 'no']"
   ]
  },
  {
   "cell_type": "code",
   "execution_count": 13,
   "metadata": {},
   "outputs": [],
   "source": [
    "# set up datas for calculation \n",
    "smokers_patients = smokers['charges']\n",
    "nonsmokers_patients = non_smokers['charges']"
   ]
  },
  {
   "cell_type": "code",
   "execution_count": 14,
   "metadata": {},
   "outputs": [
    {
     "name": "stdout",
     "output_type": "stream",
     "text": [
      "The average insurance cost for smokers  is 32050 dollars.\n",
      "The average insurance cost for nonsmokers  is 8434 dollars.\n"
     ]
    }
   ],
   "source": [
    "# defining a method to calculate the average insurance cost for smokers & nonsmokers\n",
    "def patients_mean_tabacco(patients_tabacco, string):\n",
    "    sum_charges = 0\n",
    "    for cost in patients_tabacco:\n",
    "        sum_charges += cost\n",
    "        mean_charges = sum_charges / len(patients_tabacco)\n",
    "    print(\"The average insurance cost for {}  is {} dollars.\".format(string, round(mean_charges)))\n",
    "patients_mean_tabacco(smokers_patients, \"smokers\")\n",
    "patients_mean_tabacco(nonsmokers_patients, \"nonsmokers\")"
   ]
  },
  {
   "cell_type": "code",
   "execution_count": 15,
   "metadata": {},
   "outputs": [],
   "source": [
    "southeast = df[df.region == 'southeast']\n",
    "southwest = df[df.region == 'southwest']\n",
    "northwest = df[df.region == 'northwest']\n",
    "northeast = df[df.region == 'northeast']"
   ]
  },
  {
   "cell_type": "code",
   "execution_count": 16,
   "metadata": {},
   "outputs": [],
   "source": [
    "southeast_patients = southeast['charges']\n",
    "southwest_patients = southwest['charges']\n",
    "northwest_patients = northwest['charges']\n",
    "northeast_patients = northeast['charges']"
   ]
  },
  {
   "cell_type": "code",
   "execution_count": 17,
   "metadata": {},
   "outputs": [
    {
     "name": "stdout",
     "output_type": "stream",
     "text": [
      "The region southeast have 364 patients and average insurance cost 14735 dollars.\n",
      "The region southwest have 325 patients and average insurance cost 12347 dollars.\n",
      "The region northeast have 324 patients and average insurance cost 13406 dollars.\n",
      "The region northwest have 325 patients and average insurance cost 12418 dollars.\n"
     ]
    }
   ],
   "source": [
    "# defining a method to count nummber of patients and average insurance cost for each region from dataset \n",
    "def patients_region_mean(patients_charges, string, intiger):\n",
    "    sum_charges = 0\n",
    "    for cost in patients_charges:\n",
    "        sum_charges += cost\n",
    "        mean_charges = sum_charges / len(patients_charges)\n",
    "    print(\"The region {} have {} patients and average insurance cost {} dollars.\".format(string, intiger, round(mean_charges)))\n",
    "patients_region_mean(southeast_patients, 'southeast', len(southeast))\n",
    "patients_region_mean(southwest_patients, 'southwest', len(southwest))\n",
    "patients_region_mean(northeast_patients, 'northeast', len(northeast))\n",
    "patients_region_mean(northwest_patients, 'northwest', len(northwest))"
   ]
  },
  {
   "cell_type": "markdown",
   "metadata": {},
   "source": [
    "**Figure out what the average charges is for someone who has children**\n",
    "\n",
    "- Initially I created a subset that filters nonsmokers and patients with a BMI less than 25. I defined this filter to highlight the difference in the cost of health insurance for patients who have different numbers of children.\n",
    "- To obtain this result I created a method that calculates the average value of a data set, after this I continued with a function that iterates in a range of numbers up to 3 and for each number that represents the number of children I created a subset , with this subset I calculated the average value of the medical insurance for each group of patients with the same number of children, in this method are also included people without children."
   ]
  },
  {
   "cell_type": "code",
   "execution_count": 18,
   "metadata": {},
   "outputs": [],
   "source": [
    "# create a function to calculate mean value \n",
    "def mean_formula(dataset):\n",
    "    sum_data = 0\n",
    "    for i in dataset:\n",
    "        sum_data += i \n",
    "        mean = sum_data / len(dataset)\n",
    "    return mean "
   ]
  },
  {
   "cell_type": "code",
   "execution_count": 19,
   "metadata": {},
   "outputs": [],
   "source": [
    "# filter nonsmokers and patients with a bmi less than 25 and set it equal to a variable called nonsmokers_bmiless25\n",
    "nonsmokers_bmiless25 = df[(df.smoker == 'no') & (df.bmi <= 25)]"
   ]
  },
  {
   "cell_type": "code",
   "execution_count": 20,
   "metadata": {},
   "outputs": [
    {
     "name": "stdout",
     "output_type": "stream",
     "text": [
      "{6881.0: [84, 0], 8102.9: [45, 1], 8343.1: [37, 2], 7408.8: [20, 3], 11520.1: [1, 4], 7606.5: [5, 5]}\n"
     ]
    }
   ],
   "source": [
    "# create a function to filter patients by number of children\n",
    "def patients_mean_children(subset):\n",
    "    lista = {}\n",
    "    for num in range(0, 6):\n",
    "        patient_children = subset[subset.children == num]\n",
    "        length = len(patient_children)\n",
    "        mean = mean_formula(patient_children['charges'])\n",
    "        lista.update({round(mean, 1) : [length, num]})\n",
    "    return lista \n",
    "print(patients_mean_children(nonsmokers_bmiless25))"
   ]
  },
  {
   "cell_type": "code",
   "execution_count": 21,
   "metadata": {},
   "outputs": [
    {
     "name": "stdout",
     "output_type": "stream",
     "text": [
      "[(6881.0, 84, 0), (8103.0, 45, 1), (8343.0, 37, 2), (7409.0, 20, 3)]\n",
      "Patients with no children have avergage insurance cost 6881.0 dollars.\n",
      "Patients with 1 child have avergage insurance cost 8103.0 dollars.\n",
      "Patients with 2 children have avergage insurance cost 8343.0 dollars.\n",
      "Patients with 3 children have avergage insurance cost 7409.0 dollars.\n"
     ]
    }
   ],
   "source": [
    "def patients_mean_children(subset):\n",
    "    lista = []\n",
    "    for num in range(0, 4):\n",
    "        patient_children = subset[subset.children == num]\n",
    "        length = len(patient_children)\n",
    "        mean = mean_formula(patient_children['charges'])\n",
    "        lista.append((round(mean, 0), length, num))\n",
    "    print(lista)\n",
    "    for item in lista:\n",
    "        if item[2] == 0:\n",
    "            print(\"Patients with no children have avergage insurance cost {} dollars.\".format(item[0]))\n",
    "        elif item[2] == 1:\n",
    "            print(\"Patients with {} child have avergage insurance cost {} dollars.\".format(item[2], item[0]))\n",
    "        else:\n",
    "            print(\"Patients with {} children have avergage insurance cost {} dollars.\".format(item[2], item[0]))\n",
    "patients_mean_children(nonsmokers_bmiless25)"
   ]
  },
  {
   "cell_type": "markdown",
   "metadata": {},
   "source": [
    "**Figure out what the average age is for someone who has at least one child in this dataset.**\n"
   ]
  },
  {
   "cell_type": "code",
   "execution_count": 22,
   "metadata": {},
   "outputs": [
    {
     "name": "stdout",
     "output_type": "stream",
     "text": [
      "The patients with one child have an average age of 39.0 years.\n"
     ]
    }
   ],
   "source": [
    "one_child = df[df.children == 1]\n",
    "avg_one_child = mean_formula(one_child[\"age\"])\n",
    "print(\"The patients with one child have an average age of {} years.\".format(round(avg_one_child, 0)))"
   ]
  },
  {
   "cell_type": "markdown",
   "metadata": {},
   "source": [
    "**03.Represent the data** "
   ]
  },
  {
   "cell_type": "markdown",
   "metadata": {},
   "source": [
    "**Distribution of medical insurance costs for patients in the data set** "
   ]
  },
  {
   "cell_type": "code",
   "execution_count": 23,
   "metadata": {},
   "outputs": [
    {
     "data": {
      "image/png": "[encoded data removed]",
      "text/plain": [
       "<Figure size 432x288 with 1 Axes>"
      ]
     },
     "metadata": {
      "needs_background": "light"
     },
     "output_type": "display_data"
    }
   ],
   "source": [
    "plt.hist(df['charges'], edgecolor = 'black', bins = 50)\n",
    "plt.show()"
   ]
  },
  {
   "cell_type": "markdown",
   "metadata": {},
   "source": [
    "**Distribution of age for patients in the data set**"
   ]
  },
  {
   "cell_type": "code",
   "execution_count": 24,
   "metadata": {},
   "outputs": [
    {
     "data": {
      "image/png": "[encoded data removed]",
      "text/plain": [
       "<Figure size 432x288 with 1 Axes>"
      ]
     },
     "metadata": {
      "needs_background": "light"
     },
     "output_type": "display_data"
    }
   ],
   "source": [
    "plt.hist(df['age'], edgecolor = 'black', bins = 50, color = \"green\", range = (18, 65))\n",
    "plt.show()"
   ]
  },
  {
   "cell_type": "markdown",
   "metadata": {},
   "source": [
    "**Ilustrates the number for smoking and non-smoking patients by gender.**\n",
    "- Conclusion \n",
    "\n",
    "The figure below shows that male patients are more likely to use tobacco than female patients."
   ]
  },
  {
   "cell_type": "code",
   "execution_count": 25,
   "metadata": {},
   "outputs": [
    {
     "data": {
      "image/png": "[encoded data removed]",
      "text/plain": [
       "<Figure size 432x288 with 1 Axes>"
      ]
     },
     "metadata": {
      "needs_background": "light"
     },
     "output_type": "display_data"
    }
   ],
   "source": [
    "sns.barplot(data = df, x = 'sex', y = 'charges', hue = 'smoker', estimator = len )\n",
    "plt.show()\n"
   ]
  },
  {
   "cell_type": "markdown",
   "metadata": {},
   "source": [
    "**Ilustrates the average cost of medical insurance for smoking and non-smoking patients by gender.**\n",
    "- Conclusion\n",
    "\n",
    "From the figure below we can observ that there is a big difference in insurance cost between smokers and non-smokers for both male and female gender."
   ]
  },
  {
   "cell_type": "code",
   "execution_count": 26,
   "metadata": {},
   "outputs": [
    {
     "data": {
      "image/png": "[encoded data removed]",
      "text/plain": [
       "<Figure size 432x288 with 1 Axes>"
      ]
     },
     "metadata": {
      "needs_background": "light"
     },
     "output_type": "display_data"
    }
   ],
   "source": [
    "sns.barplot(data = df, x = 'sex', y = 'charges', hue = 'smoker', ci = 'sd' )\n",
    "plt.show()"
   ]
  },
  {
   "cell_type": "markdown",
   "metadata": {},
   "source": [
    "**The figure below illustrates the number of patients according to the number of children**"
   ]
  },
  {
   "cell_type": "code",
   "execution_count": 27,
   "metadata": {},
   "outputs": [
    {
     "data": {
      "image/png": "[encoded data removed]",
      "text/plain": [
       "<Figure size 432x288 with 1 Axes>"
      ]
     },
     "metadata": {
      "needs_background": "light"
     },
     "output_type": "display_data"
    }
   ],
   "source": [
    "sns.barplot(data = df, x = 'children', y = 'age', estimator = len )\n",
    "plt.show()"
   ]
  }
 ],
 "metadata": {
  "kernelspec": {
   "display_name": "Python 3",
   "language": "python",
   "name": "python3"
  },
  "language_info": {
   "codemirror_mode": {
    "name": "ipython",
    "version": 3
   },
   "file_extension": ".py",
   "mimetype": "text/x-python",
   "name": "python",
   "nbconvert_exporter": "python",
   "pygments_lexer": "ipython3",
   "version": "3.7.4"
  }
 },
 "nbformat": 4,
 "nbformat_minor": 4
}
